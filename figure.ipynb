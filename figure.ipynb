{
  "nbformat": 4,
  "nbformat_minor": 0,
  "metadata": {
    "colab": {
      "name": "figure.ipynb",
      "provenance": [],
      "collapsed_sections": []
    },
    "kernelspec": {
      "name": "python3",
      "display_name": "Python 3"
    }
  },
  "cells": [
    {
      "cell_type": "code",
      "metadata": {
        "id": "KfttZGGkA9t6",
        "colab_type": "code",
        "colab": {
          "base_uri": "https://localhost:8080/",
          "height": 354
        },
        "outputId": "f8dcbd4c-d17d-47d0-bae6-7cfb9774e2ed"
      },
      "source": [
        "import numpy as np\n",
        "import matplotlib.pyplot as plt\n",
        "import matplotlib.patches as patches\n",
        "from matplotlib import rc\n",
        "\n",
        "figure = plt.figure(figsize=(10, 10))\n",
        "axes = figure.add_subplot(111)\n",
        "axes.xaxis.set_ticklabels([])\n",
        "axes.yaxis.set_ticklabels([])\n",
        "axes.set_xlabel(\"x\", fontsize=16)\n",
        "axes.set_ylabel(\"y\", fontsize=16)\n",
        "axes.set_xlim(-6.0, 0.0)\n",
        "axes.set_ylim(18.0, 21.0)\n",
        "radius = 20.0\n",
        "circle = patches.Circle(xy=(0.0, 0.0), radius=radius, fill=False)\n",
        "axes.add_patch(circle)\n",
        "x0 = -2\n",
        "y0 = np.sqrt(radius * radius - x0 * x0)\n",
        "dx = 1.0\n",
        "axes.arrow(\n",
        "    x=x0,\n",
        "    y=y0,\n",
        "    dx=dx,\n",
        "    dy=-x0 / y0 * dx,\n",
        "    width=0.01,\n",
        "    head_width=0.1,\n",
        "    head_length=0.2,\n",
        "    length_includes_head=True,\n",
        "    color=\"k\",\n",
        ")\n",
        "axes.plot(x0, y0, color=\"black\", marker=\"o\")\n",
        "axes.arrow(x=x0, y=y0, dx=dx, dy=0.0)\n",
        "axes.arrow(x=x0, y=y0, dx=dx, dy=-x0 / y0 * dx)\n",
        "axes.arrow(x=x0, y=0.0, dx=0.0, dy=y0)\n",
        "\n",
        "x0 = -4\n",
        "y0 = np.sqrt(radius * radius - x0 * x0)\n",
        "dx = 1.0\n",
        "axes.arrow(\n",
        "    x=x0,\n",
        "    y=y0,\n",
        "    dx=-dx,\n",
        "    dy=-(-x0 / y0 * dx),\n",
        "    width=0.01,\n",
        "    head_width=0.1,\n",
        "    head_length=0.2,\n",
        "    length_includes_head=True,\n",
        "    color=\"k\",\n",
        ")\n",
        "axes.plot(x0, y0, color=\"black\", marker=\"o\")\n",
        "axes.arrow(x=x0, y=y0, dx=dx, dy=0.0)\n",
        "axes.arrow(x=x0, y=y0, dx=dx, dy=-x0 / y0 * dx)\n",
        "axes.arrow(x=x0, y=0.0, dx=0.0, dy=y0)\n",
        "\n",
        "axes.text(-4.0, 18.0, r\"$x$\", size=20)\n",
        "axes.text(-2.0, 18.0, r\"$x + \\delta x$\", size=20)\n",
        "axes.text(-3.3, 19.6, r\"$\\theta$\", size=20)\n",
        "axes.text(-0.8, 19.8, r\"$\\theta + \\delta \\theta$\", size = 20)\n",
        "axes.text(-4.5, 19.3, r\"$-T$\", size = 20)\n",
        "axes.text(-1.5, 20.0, r\"$T$\", size = 20)\n",
        "axes.text(-4.5, 18.7, r\"$h\\left(x\\right)$\", size = 20)\n",
        "axes.text(-1.8, 18.7, r\"$h\\left(x+\\delta x\\right)$\", size = 20)\n",
        "\n",
        "axes.set_aspect(\"equal\")\n",
        "plt.show()\n",
        "plt.savefig(\"string.png\")"
      ],
      "execution_count": 1,
      "outputs": [
        {
          "output_type": "display_data",
          "data": {
            "image/png": "[encoded data removed]",
            "text/plain": [
              "<Figure size 720x720 with 1 Axes>"
            ]
          },
          "metadata": {
            "tags": [],
            "needs_background": "light"
          }
        },
        {
          "output_type": "display_data",
          "data": {
            "text/plain": [
              "<Figure size 432x288 with 0 Axes>"
            ]
          },
          "metadata": {
            "tags": []
          }
        }
      ]
    },
    {
      "cell_type": "code",
      "metadata": {
        "id": "9tpTkEWOCJdn",
        "colab_type": "code",
        "colab": {
          "base_uri": "https://localhost:8080/",
          "height": 354
        },
        "outputId": "b2cfc494-ad73-4100-b048-eccac217b852"
      },
      "source": [
        "import numpy as np\n",
        "import matplotlib.pyplot as plt\n",
        "import matplotlib.patches as patches\n",
        "from matplotlib import rc\n",
        "\n",
        "figure = plt.figure(figsize=(10, 10))\n",
        "axes = figure.add_subplot(111)\n",
        "axes.xaxis.set_ticklabels([])\n",
        "axes.yaxis.set_ticklabels([])\n",
        "axes.set_xlabel(\"x\", fontsize=16)\n",
        "axes.set_ylabel(\"y\", fontsize=16)\n",
        "axes.set_xlim(-6.0, 0.0)\n",
        "axes.set_ylim(18.0, 21.0)\n",
        "radius = 20.0\n",
        "circle = patches.Circle(xy=(0.0, 0.0), radius=radius, fill=False)\n",
        "axes.add_patch(circle)\n",
        "x0 = -2\n",
        "y0 = np.sqrt(radius * radius - x0 * x0)\n",
        "dx = 1.0\n",
        "axes.arrow(\n",
        "    x=x0,\n",
        "    y=y0,\n",
        "    dx=0.0,\n",
        "    dy=-1.0,\n",
        "    width=0.01,\n",
        "    head_width=0.1,\n",
        "    head_length=0.2,\n",
        "    length_includes_head=True,\n",
        "    color=\"k\",\n",
        ")\n",
        "axes.plot(x0, y0, color=\"black\", marker=\"o\")\n",
        "axes.arrow(x=x0, y=y0, dx=dx, dy=0.0)\n",
        "axes.arrow(x=x0, y=y0, dx=dx, dy=-x0 / y0 * dx)\n",
        "axes.arrow(x=x0, y=0.0, dx=0.0, dy=y0)\n",
        "axes.plot([x0],[y0],marker=r'$\\circlearrowright$', ms=50, color = \"black\")\n",
        "\n",
        "x0 = -4\n",
        "y0 = np.sqrt(radius * radius - x0 * x0)\n",
        "dx = 1.0\n",
        "axes.arrow(\n",
        "    x=x0,\n",
        "    y=y0,\n",
        "    dx=0.0,\n",
        "    dy=1.0,\n",
        "    width=0.01,\n",
        "    head_width=0.1,\n",
        "    head_length=0.2,\n",
        "    length_includes_head=True,\n",
        "    color=\"k\",\n",
        ")\n",
        "axes.plot(x0, y0, color=\"black\", marker=\"o\")\n",
        "axes.arrow(x=x0, y=y0, dx=dx, dy=0.0)\n",
        "axes.arrow(x=x0, y=y0, dx=dx, dy=-x0 / y0 * dx)\n",
        "axes.arrow(x=x0, y=0.0, dx=0.0, dy=y0)\n",
        "axes.plot([x0],[y0],marker=r'$\\circlearrowleft$', ms=50, color = \"black\")\n",
        "\n",
        "axes.text(-4.0, 18.0, r\"$x$\", size=20)\n",
        "axes.text(-2.0, 18.0, r\"$x + \\delta x$\", size=20)\n",
        "axes.text(-3.3, 19.6, r\"$\\theta$\", size=20)\n",
        "axes.text(-0.8, 19.8, r\"$\\theta + \\delta \\theta$\", size = 20)\n",
        "axes.text(-5.0, 20.3, r\"$-N\\left(x\\right)$\", size = 20)\n",
        "axes.text(-1.8, 19.0, r\"$N\\left(x+\\delta x\\right)$\", size = 20)\n",
        "axes.text(-4.0, 20.0, r\"$-M\\left(x\\right)$\", size = 20)\n",
        "axes.text(-2.0, 20.2, r\"$M\\left(x+\\delta x\\right)$\", size = 20)\n",
        "\n",
        "axes.set_aspect(\"equal\")\n",
        "plt.show()\n",
        "plt.savefig(\"rod.png\")"
      ],
      "execution_count": 2,
      "outputs": [
        {
          "output_type": "display_data",
          "data": {
            "image/png": "[encoded data removed]",
            "text/plain": [
              "<Figure size 720x720 with 1 Axes>"
            ]
          },
          "metadata": {
            "tags": [],
            "needs_background": "light"
          }
        },
        {
          "output_type": "display_data",
          "data": {
            "text/plain": [
              "<Figure size 432x288 with 0 Axes>"
            ]
          },
          "metadata": {
            "tags": []
          }
        }
      ]
    },
    {
      "cell_type": "code",
      "metadata": {
        "id": "hhbr_YNBmL86",
        "colab_type": "code",
        "colab": {}
      },
      "source": [
        ""
      ],
      "execution_count": 2,
      "outputs": []
    }
  ]
}